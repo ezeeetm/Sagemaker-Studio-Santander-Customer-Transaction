{
 "cells": [
  {
   "cell_type": "markdown",
   "metadata": {},
   "source": [
    "## screencap of kaggle"
   ]
  },
  {
   "cell_type": "markdown",
   "metadata": {},
   "source": [
    "- Install dependencies for this Jupyter notebook"
   ]
  },
  {
   "cell_type": "code",
   "execution_count": null,
   "metadata": {},
   "outputs": [],
   "source": [
    "%%bash\n",
    "pip install kaggle\n",
    "sudo apt-get update\n",
    "sudo apt-get install -y jq"
   ]
  },
  {
   "cell_type": "markdown",
   "metadata": {},
   "source": [
    "- Upload your own `kaggle.json` using the Sagemaker Studio File Broswser to the left, then...\n",
    "- Move `kaggle.json` to `/root/.kaggle/` on the Sagemaker Studio notebook instance, and change permissions to ensure it's not readable\n",
    "- Download and unzip the santander-customer-transaction-prediction dataset from Kaggle to the notebook instance"
   ]
  },
  {
   "cell_type": "code",
   "execution_count": null,
   "metadata": {},
   "outputs": [],
   "source": [
    "%%bash\n",
    "mv kaggle.json /root/.kaggle/\n",
    "chmod 600 /root/.kaggle/kaggle.json\n",
    "kaggle competitions download -c santander-customer-transaction-prediction\n",
    "unzip ./santander-customer-transaction-prediction.zip"
   ]
  },
  {
   "cell_type": "markdown",
   "metadata": {},
   "source": [
    "- Create a temporary S3 bucket for this project\n",
    "- Upload `train.csv` from Kaggle competition to S3"
   ]
  },
  {
   "cell_type": "code",
   "execution_count": null,
   "metadata": {},
   "outputs": [],
   "source": [
    "%%bash\n",
    "AWS_ACCOUNT_ID=$(aws sts get-caller-identity | jq -r '.Account') #account ID ensures s3 bucket name is globally unique\n",
    "BUCKET=\"smstudio-santander-$AWS_ACCOUNT_ID\"\n",
    "aws s3api create-bucket --bucket $BUCKET --region $AWS_REGION --create-bucket-configuration LocationConstraint=$AWS_REGION\n",
    "aws s3 cp ./train.csv s3://$BUCKET/train.csv"
   ]
  },
  {
   "cell_type": "markdown",
   "metadata": {},
   "source": [
    "## screencap of SMS AutoML steps"
   ]
  },
  {
   "cell_type": "code",
   "execution_count": 3,
   "metadata": {},
   "outputs": [],
   "source": [
    "import boto3\n",
    "\n",
    "client = boto3.client('sagemaker')\n"
   ]
  },
  {
   "cell_type": "code",
   "execution_count": 4,
   "metadata": {},
   "outputs": [],
   "source": [
    "response = client.list_training_jobs_for_hyper_parameter_tuning_job(\n",
    "    HyperParameterTuningJobName='tuning-job-1-3ec69a12130e443a86',\n",
    "    StatusEquals='Completed',\n",
    "    SortBy='FinalObjectiveMetricValue',\n",
    "    SortOrder='Descending',\n",
    "    MaxResults=1\n",
    ")"
   ]
  },
  {
   "cell_type": "code",
   "execution_count": 16,
   "metadata": {},
   "outputs": [
    {
     "data": {
      "text/plain": [
       "'tuning-job-1-3ec69a12130e443a86-177-fb23b88c'"
      ]
     },
     "execution_count": 16,
     "metadata": {},
     "output_type": "execute_result"
    }
   ],
   "source": [
    "response['TrainingJobSummaries'][0]['TrainingJobName']"
   ]
  },
  {
   "cell_type": "code",
   "execution_count": 12,
   "metadata": {},
   "outputs": [
    {
     "name": "stdout",
     "output_type": "stream",
     "text": [
      "s3://smstudio-santander-273210948404/output/smstudio-santander-accuracy/tuning/smstudio-s-dpp0-xgb/tuning-job-1-3ec69a12130e443a86-177-fb23b88c/output/model.tar.gz\n",
      "arn:aws:sagemaker:us-east-2:273210948404:model/tuning-job-1-3ec69a12130e443a86-177-fb23b88c\n"
     ]
    }
   ],
   "source": [
    "model_name = 'tuning-job-1-3ec69a12130e443a86-177-fb23b88c'\n",
    "info = client.describe_training_job(TrainingJobName='tuning-job-1-3ec69a12130e443a86-177-fb23b88c')\n",
    "model_data = info['ModelArtifacts']['S3ModelArtifacts']\n",
    "print(model_data)\n",
    "\n",
    "primary_container = {\n",
    "    'Image': '257758044811.dkr.ecr.us-east-2.amazonaws.com/sagemaker-xgboost:0.90-1-cpu-py3',\n",
    "    'ModelDataUrl': model_data\n",
    "}\n",
    "\n",
    "create_model_response = client.create_model(\n",
    "    ModelName = model_name,\n",
    "    ExecutionRoleArn = 'arn:aws:iam::273210948404:role/service-role/AmazonSageMaker-ExecutionRole-20200328T115688',\n",
    "    PrimaryContainer = primary_container)\n",
    "\n",
    "print(create_model_response['ModelArn'])"
   ]
  },
  {
   "cell_type": "code",
   "execution_count": null,
   "metadata": {},
   "outputs": [],
   "source": [
    "!pip install 'sagemaker[local]' --upgrade"
   ]
  },
  {
   "cell_type": "code",
   "execution_count": 24,
   "metadata": {},
   "outputs": [],
   "source": [
    "from sagemaker.transformer import Transformer\n",
    "transformer = Transformer(model_name='tuning-job-1-3ec69a12130e443a86-177-fb23b88c',\n",
    "                          instance_count=1,\n",
    "                          instance_type='ml.m4.xlarge',\n",
    "                          assemble_with='Line',\n",
    "                          max_payload=1\n",
    "                         )"
   ]
  },
  {
   "cell_type": "code",
   "execution_count": 25,
   "metadata": {},
   "outputs": [],
   "source": [
    "transformer.transform('s3://smstudio-santander-273210948404/test.csv', content_type='text/csv', split_type='Line')"
   ]
  },
  {
   "cell_type": "code",
   "execution_count": 22,
   "metadata": {},
   "outputs": [
    {
     "name": "stdout",
     "output_type": "stream",
     "text": [
      "upload: ./test.csv to s3://smstudio-santander-273210948404/test.csv \n"
     ]
    }
   ],
   "source": [
    "%%bash\n",
    "AWS_ACCOUNT_ID=$(aws sts get-caller-identity | jq -r '.Account') #account ID ensures s3 bucket name is globally unique\n",
    "BUCKET=\"smstudio-santander-$AWS_ACCOUNT_ID\"\n",
    "#aws s3api create-bucket --bucket $BUCKET --region $AWS_REGION --create-bucket-configuration LocationConstraint=$AWS_REGION\n",
    "aws s3 cp ./test.csv s3://$BUCKET/test.csv"
   ]
  },
  {
   "cell_type": "code",
   "execution_count": 28,
   "metadata": {},
   "outputs": [
    {
     "name": "stdout",
     "output_type": "stream",
     "text": [
      "Column names are ID_code, var_0, var_1, var_2, var_3, var_4, var_5, var_6, var_7, var_8, var_9, var_10, var_11, var_12, var_13, var_14, var_15, var_16, var_17, var_18, var_19, var_20, var_21, var_22, var_23, var_24, var_25, var_26, var_27, var_28, var_29, var_30, var_31, var_32, var_33, var_34, var_35, var_36, var_37, var_38, var_39, var_40, var_41, var_42, var_43, var_44, var_45, var_46, var_47, var_48, var_49, var_50, var_51, var_52, var_53, var_54, var_55, var_56, var_57, var_58, var_59, var_60, var_61, var_62, var_63, var_64, var_65, var_66, var_67, var_68, var_69, var_70, var_71, var_72, var_73, var_74, var_75, var_76, var_77, var_78, var_79, var_80, var_81, var_82, var_83, var_84, var_85, var_86, var_87, var_88, var_89, var_90, var_91, var_92, var_93, var_94, var_95, var_96, var_97, var_98, var_99, var_100, var_101, var_102, var_103, var_104, var_105, var_106, var_107, var_108, var_109, var_110, var_111, var_112, var_113, var_114, var_115, var_116, var_117, var_118, var_119, var_120, var_121, var_122, var_123, var_124, var_125, var_126, var_127, var_128, var_129, var_130, var_131, var_132, var_133, var_134, var_135, var_136, var_137, var_138, var_139, var_140, var_141, var_142, var_143, var_144, var_145, var_146, var_147, var_148, var_149, var_150, var_151, var_152, var_153, var_154, var_155, var_156, var_157, var_158, var_159, var_160, var_161, var_162, var_163, var_164, var_165, var_166, var_167, var_168, var_169, var_170, var_171, var_172, var_173, var_174, var_175, var_176, var_177, var_178, var_179, var_180, var_181, var_182, var_183, var_184, var_185, var_186, var_187, var_188, var_189, var_190, var_191, var_192, var_193, var_194, var_195, var_196, var_197, var_198, var_199\n",
      "\ttest_0 works in the 11.0656 department, and was born in 7.7798.\n",
      "\ttest_1 works in the 8.5304 department, and was born in 1.2543.\n",
      "\ttest_2 works in the 5.4827 department, and was born in -10.3581.\n",
      "\ttest_3 works in the 8.5374 department, and was born in -1.3222.\n",
      "\ttest_4 works in the 11.7058 department, and was born in -0.1327.\n",
      "\ttest_5 works in the 5.9862 department, and was born in -2.2913.\n",
      "\ttest_6 works in the 8.4624 department, and was born in -6.1065.\n",
      "\ttest_7 works in the 17.3035 department, and was born in -2.4212.\n",
      "\ttest_8 works in the 6.9856 department, and was born in 0.8402.\n",
      "Processed 10 lines.\n"
     ]
    }
   ],
   "source": [
    "import csv\n",
    "\n",
    "with open('test.csv') as csv_file:\n",
    "    csv_reader = csv.reader(csv_file, delimiter=',')\n",
    "    line_count = 0\n",
    "    for row in csv_reader:\n",
    "        if line_count == 0:\n",
    "            print(f'Column names are {\", \".join(row)}')\n",
    "            line_count += 1\n",
    "        else:\n",
    "            print(f'\\t{row[0]} works in the {row[1]} department, and was born in {row[2]}.')\n",
    "            line_count += 1\n",
    "        if line_count >= 10:\n",
    "            break\n",
    "    print(f'Processed {line_count} lines.')"
   ]
  },
  {
   "cell_type": "code",
   "execution_count": 29,
   "metadata": {},
   "outputs": [
    {
     "data": {
      "text/plain": [
       "['test_8',\n",
       " '6.9856',\n",
       " '0.8402',\n",
       " '13.7161',\n",
       " '4.7749',\n",
       " '8.6784',\n",
       " '-13.7607',\n",
       " '4.3386',\n",
       " '14.5843',\n",
       " '2.5883',\n",
       " '7.2215',\n",
       " '9.375',\n",
       " '8.4046',\n",
       " '14.3322',\n",
       " '17.1366',\n",
       " '7.9301',\n",
       " '14.2254',\n",
       " '6.722',\n",
       " '-8.7087',\n",
       " '-1.3541',\n",
       " '19.2714',\n",
       " '9.3437',\n",
       " '18.6532',\n",
       " '7.7823',\n",
       " '2.6009',\n",
       " '6.7642',\n",
       " '13.6464',\n",
       " '-6.3747',\n",
       " '1.1001',\n",
       " '6.3812',\n",
       " '7.6421',\n",
       " '4.3898',\n",
       " '9.0597',\n",
       " '1.204',\n",
       " '7.1039',\n",
       " '12.3777',\n",
       " '-2.9641',\n",
       " '7.0173',\n",
       " '7.4202',\n",
       " '19.6818',\n",
       " '-4.4557',\n",
       " '-8.9754',\n",
       " '1.5151',\n",
       " '11.5905',\n",
       " '12.0374',\n",
       " '14.9053',\n",
       " '-3.7726',\n",
       " '8.2385',\n",
       " '-14.4489',\n",
       " '-0.7069',\n",
       " '6.9919',\n",
       " '12.8479',\n",
       " '27.6295',\n",
       " '-4.9911',\n",
       " '6.5384',\n",
       " '8.362',\n",
       " '16.5132',\n",
       " '23.6665',\n",
       " '5.1845',\n",
       " '4.3941',\n",
       " '8.6522',\n",
       " '8.3098',\n",
       " '-7.7338',\n",
       " '-1.9156',\n",
       " '-3.2809',\n",
       " '7.2819',\n",
       " '3.4439',\n",
       " '7.3613',\n",
       " '5.1669',\n",
       " '5.0119',\n",
       " '-9.8221',\n",
       " '28.1225',\n",
       " '0.9355',\n",
       " '-1.8602',\n",
       " '23.5856',\n",
       " '13.4518',\n",
       " '21.7888',\n",
       " '9.118',\n",
       " '18.7106',\n",
       " '6.7353',\n",
       " '14.58',\n",
       " '-2.9163',\n",
       " '16.0976',\n",
       " '-2.0214',\n",
       " '-0.6714',\n",
       " '0.8176',\n",
       " '20.7796',\n",
       " '10.8433',\n",
       " '13.8174',\n",
       " '10.911',\n",
       " '4.654',\n",
       " '-16.7103',\n",
       " '6.8175',\n",
       " '7.35',\n",
       " '11.0465',\n",
       " '12.5032',\n",
       " '0.4848',\n",
       " '6.1101',\n",
       " '15.0128',\n",
       " '2.9392',\n",
       " '-3.3947',\n",
       " '-17.4719',\n",
       " '2.2523',\n",
       " '13.9971',\n",
       " '1.4223',\n",
       " '10.9085',\n",
       " '4.3059',\n",
       " '8.2673',\n",
       " '6.8189',\n",
       " '14.4489',\n",
       " '13.0155',\n",
       " '7.5274',\n",
       " '5.2759',\n",
       " '4.2894',\n",
       " '4.9696',\n",
       " '5.0573',\n",
       " '5.2765',\n",
       " '2.6045',\n",
       " '19.6039',\n",
       " '-2.2295',\n",
       " '-0.4357',\n",
       " '9.733',\n",
       " '14.4961',\n",
       " '-0.6687',\n",
       " '4.5032',\n",
       " '3.1302',\n",
       " '12.1091',\n",
       " '13.5299',\n",
       " '5.6511',\n",
       " '-1.4709',\n",
       " '16.5722',\n",
       " '13.2591',\n",
       " '-0.2205',\n",
       " '9.9031',\n",
       " '6.7155',\n",
       " '-9.7841',\n",
       " '-5.1019',\n",
       " '25.8567',\n",
       " '16.5908',\n",
       " '-2.5403',\n",
       " '7.7289',\n",
       " '2.8455',\n",
       " '2.2674',\n",
       " '13.0833',\n",
       " '14.1355',\n",
       " '8.8783',\n",
       " '-0.067',\n",
       " '9.5314',\n",
       " '-0.3042',\n",
       " '4.1288',\n",
       " '5.218',\n",
       " '15.8261',\n",
       " '4.8847',\n",
       " '10.0671',\n",
       " '15.7964',\n",
       " '4.5274',\n",
       " '5.401',\n",
       " '14.6694',\n",
       " '1.7479',\n",
       " '15.8807',\n",
       " '19.9708',\n",
       " '6.578',\n",
       " '5.505',\n",
       " '5.7826',\n",
       " '3.0612',\n",
       " '1.3582',\n",
       " '21.0711',\n",
       " '2.7477',\n",
       " '-5.5203',\n",
       " '5.7496',\n",
       " '5.1234',\n",
       " '-4.5422',\n",
       " '-1.0625',\n",
       " '13.1249',\n",
       " '-0.7765',\n",
       " '18.7814',\n",
       " '12.293',\n",
       " '-11.3608',\n",
       " '17.1317',\n",
       " '-0.645',\n",
       " '3.0689',\n",
       " '6.4179',\n",
       " '7.8819',\n",
       " '1.66',\n",
       " '10.0574',\n",
       " '6.2029',\n",
       " '1.5205',\n",
       " '10.0629',\n",
       " '-13.7457',\n",
       " '13.591',\n",
       " '-0.1388',\n",
       " '-3.4657',\n",
       " '7.8754',\n",
       " '2.4698',\n",
       " '-0.0362',\n",
       " '16.7144',\n",
       " '0.1221',\n",
       " '-1.4328',\n",
       " '9.9207',\n",
       " '16.9865',\n",
       " '-3.3304']"
      ]
     },
     "execution_count": 29,
     "metadata": {},
     "output_type": "execute_result"
    }
   ],
   "source": [
    "row"
   ]
  },
  {
   "cell_type": "code",
   "execution_count": null,
   "metadata": {},
   "outputs": [],
   "source": []
  }
 ],
 "metadata": {
  "kernelspec": {
   "display_name": "Python 3 (Data Science)",
   "language": "python",
   "name": "python3__SAGEMAKER_INTERNAL__arn:aws:sagemaker:us-east-2:429704687514:environment/datascience"
  },
  "language_info": {
   "codemirror_mode": {
    "name": "ipython",
    "version": 3
   },
   "file_extension": ".py",
   "mimetype": "text/x-python",
   "name": "python",
   "nbconvert_exporter": "python",
   "pygments_lexer": "ipython3",
   "version": "3.7.6"
  }
 },
 "nbformat": 4,
 "nbformat_minor": 4
}
